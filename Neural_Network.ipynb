{
 "cells": [
  {
   "cell_type": "markdown",
   "metadata": {},
   "source": [
    "## Neural Network"
   ]
  },
  {
   "cell_type": "markdown",
   "metadata": {},
   "source": [
    "A feedforward neural network model, also known as deep neural network (DNN) or multi-layer perceptron (MLP), is the most common type of Deep Neural Network. Neural Networks can be visualized as a series of connected layers that form a network. It contains three types of layers:\n",
    "\n",
    "1. Input Layer: Each unit of the layer contains a feature\n",
    "\n",
    "2. Hidden Layers: there could be several hidden layers in a NN. They successively transform feature values from input layer to out layer.\n",
    "\n",
    "3. Output Layer: contains the output resulted from hidden layers\n",
    "\n",
    "It is called feedforward because the features are fed forward through the Network. All parameters are initialized randomly by Gaussian or normal uniform distribution. It would be a good idea to scale the features before training. Then the features are fed to the network. The output values are compared to the true values by loss function (Forward Propagation). Then the algorithm goes backward (Backward Propagation) through the network and changes the weight in order to improve the output. \n",
    " \n",
    "Several other types of DNNs are popular as well, such as Convolutional Neural Networks (CNNs) and Recurrent Neural Networks (RNNs). MLPs work well on transactional (tabular) data; however if you have image data, then CNNs are a great choice. If you have sequential data (e.g. text, audio, time-series), then RNNs are a good choice. \n",
    "\n",
    "Here we explain and implement Feedforward Neural Network. "
   ]
  },
  {
   "cell_type": "markdown",
   "metadata": {},
   "source": [
    "Here we construct a feedforward NN for binary classification. The design of NN is NOT an easy matter. For each NN, the number of hidden layer, the number of units in each hidden layer and its activation function should be defined. For compiling the NN, we also need to define loss function, optimizer and metrics depends on the problem at hand. \n",
    "\n",
    "Here, we used the IMDB datasets. \n",
    "Dataset of 25,000 movies reviews from IMDB, labeled by sentiment (positive/negative). Reviews have been preprocessed, and each review is encoded as a sequence of word indexes (integers). "
   ]
  },
  {
   "cell_type": "code",
   "execution_count": 2,
   "metadata": {},
   "outputs": [
    {
     "data": {
      "image/png": "[encoded data removed]",
      "text/plain": [
       "<Figure size 432x288 with 2 Axes>"
      ]
     },
     "metadata": {
      "needs_background": "light"
     },
     "output_type": "display_data"
    }
   ],
   "source": [
    "# Training Binary Classification using FeedForward Neural Network\n",
    "import numpy as np\n",
    "from keras.datasets import imdb\n",
    "from keras.preprocessing.text import Tokenizer\n",
    "from keras import models\n",
    "from keras import layers\n",
    "import matplotlib.pyplot as plt\n",
    "\n",
    "np.random.seed(0)\n",
    "\n",
    "number_of_feature = 10000\n",
    "\n",
    "(data_train, y_train), (data_test, y_test) = imdb.load_data(num_words=number_of_feature)\n",
    "\n",
    "# convert movie review data to one-hot encoded feature matrix\n",
    "tokenizer = Tokenizer(num_words=number_of_feature)\n",
    "X_train = tokenizer.sequences_to_matrix(data_train, mode=\"binary\")\n",
    "X_test = tokenizer.sequences_to_matrix(data_test, mode=\"binary\")\n",
    "\n",
    "#Start NN\n",
    "network = models.Sequential()\n",
    "\n",
    "# Add Relu layer\n",
    "network.add(layers.Dense(units=16, activation='relu', input_shape=(number_of_feature, )))\n",
    "\n",
    "# Add Relu layer\n",
    "network.add(layers.Dense(units=16, activation='relu'))\n",
    "\n",
    "# Add Relu layer\n",
    "network.add(layers.Dense(units=1, activation='sigmoid'))\n",
    "\n",
    "# Compile NN\n",
    "network.compile(loss='binary_crossentropy', optimizer='rmsprop', metrics=[\"accuracy\"])\n",
    "\n",
    "#Train NN\n",
    "history = network.fit(X_train, y_train, epochs=15, verbose=0, batch_size=1000, \n",
    "                     validation_data=(X_test, y_test))\n",
    "\n",
    "#training and test lost history\n",
    "training_loss = history.history[\"loss\"]\n",
    "test_loss = history.history[\"val_loss\"]\n",
    "\n",
    "# number of epochs\n",
    "epoch_count = range(1, len(training_loss)+1)\n",
    "\n",
    "fig = plt.figure()\n",
    "fig.subplots_adjust(hspace=0.4, wspace=0.4)\n",
    "\n",
    "plt.subplot(1,2,1)\n",
    "plt.plot(epoch_count, training_loss, 'r--')\n",
    "plt.plot(epoch_count, test_loss, 'b-')\n",
    "plt.legend([\"Training loss\", \"Test loss\"])\n",
    "plt.xlabel(\"Epoch\")\n",
    "plt.ylabel(\"Loss\")\n",
    "#plt.show()\n",
    "\n",
    "#training and test accuracy history\n",
    "training_acc = history.history[\"acc\"]\n",
    "test_acc = history.history[\"val_acc\"]\n",
    "\n",
    "plt.subplot(1,2,2)\n",
    "plt.plot(epoch_count, training_acc, 'r--')\n",
    "plt.plot(epoch_count, test_acc, 'b-')\n",
    "plt.legend([\"Training Accuracy\", \"Test Accuracy\"])\n",
    "plt.xlabel(\"Epoch\")\n",
    "plt.ylabel(\"Accuracy\")\n",
    "plt.show()"
   ]
  },
  {
   "cell_type": "code",
   "execution_count": 1,
   "metadata": {},
   "outputs": [
    {
     "name": "stderr",
     "output_type": "stream",
     "text": [
      "Using TensorFlow backend.\n"
     ]
    },
    {
     "name": "stdout",
     "output_type": "stream",
     "text": [
      "WARNING:tensorflow:From C:\\Users\\phess\\Anaconda3\\lib\\site-packages\\tensorflow\\python\\framework\\op_def_library.py:263: colocate_with (from tensorflow.python.framework.ops) is deprecated and will be removed in a future version.\n",
      "Instructions for updating:\n",
      "Colocations handled automatically by placer.\n",
      "WARNING:tensorflow:From C:\\Users\\phess\\Anaconda3\\lib\\site-packages\\tensorflow\\python\\ops\\math_ops.py:3066: to_int32 (from tensorflow.python.ops.math_ops) is deprecated and will be removed in a future version.\n",
      "Instructions for updating:\n",
      "Use tf.cast instead.\n"
     ]
    }
   ],
   "source": [
    "# Training multi-class Classification using FeedForwar NN\n",
    "import numpy as np\n",
    "from keras.datasets import reuters\n",
    "from keras.preprocessing.text import Tokenizer\n",
    "from keras import models\n",
    "from keras import layers\n",
    "from keras.utils.np_utils import to_categorical\n",
    "\n",
    "np.random.seed(0)\n",
    "\n",
    "number_of_feature = 5000\n",
    "\n",
    "(data_train, target_train), (data_test, target_test) = reuters.load_data(num_words=number_of_feature)\n",
    "\n",
    "# convert movie review data to one-hot encoded feature matrix\n",
    "tokenizer = Tokenizer(num_words=number_of_feature)\n",
    "X_train = tokenizer.sequences_to_matrix(data_train, mode=\"binary\")\n",
    "X_test = tokenizer.sequences_to_matrix(data_test, mode=\"binary\")\n",
    "\n",
    "# one-hot encode target vector\n",
    "y_train = to_categorical(target_train)\n",
    "y_test = to_categorical(target_test)\n",
    "\n",
    "#Start NN\n",
    "network = models.Sequential()\n",
    "\n",
    "# Add Relu layer\n",
    "network.add(layers.Dense(units=100, activation='relu', input_shape=(number_of_feature, )))\n",
    "\n",
    "# Add Relu layer\n",
    "network.add(layers.Dense(units=100, activation='relu'))\n",
    "\n",
    "# Add Relu layer\n",
    "network.add(layers.Dense(units=46, activation='softmax'))\n",
    "\n",
    "# Compile NN\n",
    "network.compile(loss='categorical_crossentropy', optimizer='rmsprop', metrics=[\"accuracy\"])\n",
    "\n",
    "#Train NN\n",
    "history = network.fit(X_train, y_train, epochs=3, verbose=0, batch_size=100, \n",
    "                     validation_data=(X_test, y_test))"
   ]
  },
  {
   "cell_type": "markdown",
   "metadata": {},
   "source": [
    "Neural Network also can be used for regression problems. We should remove the activation function in output layer to have continuous output."
   ]
  },
  {
   "cell_type": "code",
   "execution_count": 3,
   "metadata": {},
   "outputs": [],
   "source": [
    "# FeedForward NN for Regression\n",
    "import numpy as np\n",
    "from keras.preprocessing.text import Tokenizer\n",
    "from keras import layers, models\n",
    "from sklearn.datasets import make_regression\n",
    "from sklearn.model_selection import train_test_split\n",
    "from sklearn import preprocessing\n",
    "\n",
    "np.random.seed(0)\n",
    "\n",
    "X, y = make_regression(n_samples=10000, n_features=3, n_informative=3, n_targets=1, noise=0.0, random_state=0)\n",
    "\n",
    "X_train, X_test, y_train, y_test = train_test_split(X, y, test_size=0.33, random_state=0)\n",
    "\n",
    "network = models.Sequential()\n",
    "# Add Relu layer\n",
    "network.add(layers.Dense(units=32, activation='relu', input_shape=(X_train.shape[1], )))\n",
    "# Add Relu layer\n",
    "network.add(layers.Dense(units=32, activation='relu'))\n",
    "\n",
    "# Add Relu layer\n",
    "network.add(layers.Dense(units=1)) # no activation function::: continuous output\n",
    "\n",
    "# Compile NN\n",
    "network.compile(loss='mse', optimizer='RMSprop', metrics=[\"mse\"])\n",
    "\n",
    "#Train NN\n",
    "history = network.fit(X_train, y_train, epochs=10, verbose=0, batch_size=100, \n",
    "                     validation_data=(X_test, y_test))"
   ]
  },
  {
   "cell_type": "markdown",
   "metadata": {},
   "source": [
    "Regularization is a strategy that can be used to overcome overfitting in NN. "
   ]
  },
  {
   "cell_type": "code",
   "execution_count": 4,
   "metadata": {},
   "outputs": [
    {
     "data": {
      "text/plain": [
       "array([0.31616694], dtype=float32)"
      ]
     },
     "execution_count": 4,
     "metadata": {},
     "output_type": "execute_result"
    }
   ],
   "source": [
    "# Regularizing Weights for Overfitting\n",
    "import numpy as np\n",
    "from keras.datasets import imdb\n",
    "from keras.preprocessing.text import Tokenizer\n",
    "from keras import models\n",
    "from keras import layers\n",
    "from keras import regularizers\n",
    "\n",
    "np.random.seed(0)\n",
    "\n",
    "number_of_feature = 1000\n",
    "\n",
    "(data_train, y_train), (data_test, y_test) = imdb.load_data(num_words=number_of_feature)\n",
    "\n",
    "# convert movie review data to one-hot encoded feature matrix\n",
    "tokenizer = Tokenizer(num_words=number_of_feature)\n",
    "X_train = tokenizer.sequences_to_matrix(data_train, mode=\"binary\")\n",
    "X_test = tokenizer.sequences_to_matrix(data_test, mode=\"binary\")\n",
    "\n",
    "#Start NN\n",
    "network = models.Sequential()\n",
    "\n",
    "# Add Relu layer\n",
    "network.add(layers.Dense(units=16, activation='relu',\n",
    "                         kernel_regularizer=regularizers.l2(0.01), input_shape=(number_of_feature, )))\n",
    "\n",
    "# Add Relu layer\n",
    "network.add(layers.Dense(units=16, kernel_regularizer=regularizers.l2(0.01), activation='relu'))\n",
    "\n",
    "# Add Relu layer\n",
    "network.add(layers.Dense(units=1, activation='sigmoid'))\n",
    "\n",
    "# Compile NN\n",
    "network.compile(loss='binary_crossentropy', optimizer='rmsprop', metrics=[\"accuracy\"])\n",
    "\n",
    "#Train NN\n",
    "history = network.fit(X_train, y_train, epochs=3, verbose=0, batch_size=100, \n",
    "                     validation_data=(X_test, y_test))\n",
    "# prediction\n",
    "predicted_y = network.predict(X_test)\n",
    "predicted_y[0]\n",
    "\n",
    "\n"
   ]
  },
  {
   "cell_type": "markdown",
   "metadata": {},
   "source": [
    "Another strategy for reducing overfitting is called Early Stopping"
   ]
  },
  {
   "cell_type": "code",
   "execution_count": 14,
   "metadata": {},
   "outputs": [
    {
     "name": "stdout",
     "output_type": "stream",
     "text": [
      "range(1, 7)\n"
     ]
    },
    {
     "data": {
      "image/png": "[encoded data removed]",
      "text/plain": [
       "<Figure size 432x288 with 2 Axes>"
      ]
     },
     "metadata": {
      "needs_background": "light"
     },
     "output_type": "display_data"
    }
   ],
   "source": [
    "# Early stopping for Overfitting\n",
    "import numpy as np\n",
    "from keras.datasets import imdb\n",
    "from keras.preprocessing.text import Tokenizer\n",
    "from keras import models\n",
    "from keras import layers\n",
    "from keras.callbacks import EarlyStopping, ModelCheckpoint\n",
    "import matplotlib.pyplot as plt\n",
    "\n",
    "np.random.seed(0)\n",
    "\n",
    "number_of_feature = 10000\n",
    "\n",
    "(data_train, y_train), (data_test, y_test) = imdb.load_data(num_words=number_of_feature)\n",
    "\n",
    "# convert movie review data to one-hot encoded feature matrix\n",
    "tokenizer = Tokenizer(num_words=number_of_feature)\n",
    "X_train = tokenizer.sequences_to_matrix(data_train, mode=\"binary\")\n",
    "X_test = tokenizer.sequences_to_matrix(data_test, mode=\"binary\")\n",
    "\n",
    "#Start NN\n",
    "network = models.Sequential()\n",
    "\n",
    "# Add Relu layer\n",
    "network.add(layers.Dense(units=16, activation='relu',\n",
    "                         input_shape=(number_of_feature, )))\n",
    "\n",
    "# Add Relu layer\n",
    "network.add(layers.Dense(units=16, activation='relu'))\n",
    "\n",
    "# Add Relu layer\n",
    "network.add(layers.Dense(units=1, activation='sigmoid'))\n",
    "\n",
    "# Compile NN\n",
    "network.compile(loss='binary_crossentropy', optimizer='rmsprop', metrics=[\"accuracy\"])\n",
    "\n",
    "# set callback function to early stop training and save the best model\n",
    "callbacks = [EarlyStopping(monitor=\"val_loss\", patience=2),\n",
    "            ModelCheckpoint(filepath=\"best_model.h5\", monitor=\"val_loss\", save_best_only=True)]\n",
    "\n",
    "#Train NN\n",
    "history = network.fit(X_train, y_train, epochs=15, callbacks=callbacks, verbose=0, batch_size=1000, \n",
    "                     validation_data=(X_test, y_test))\n",
    "# prediction\n",
    "predicted_y = network.predict(X_test)\n",
    "predicted_y[0]\n",
    "\n",
    "#training and test lost history\n",
    "training_loss = history.history[\"loss\"]\n",
    "test_loss = history.history[\"val_loss\"]\n",
    "\n",
    "# number of epochs\n",
    "epoch_count = range(1, len(training_loss)+1)\n",
    "print(epoch_count)\n",
    "fig = plt.figure()\n",
    "fig.subplots_adjust(hspace=0.4, wspace=0.4)\n",
    "\n",
    "plt.subplot(1,2,1)\n",
    "plt.plot(epoch_count, training_loss, 'r--')\n",
    "plt.plot(epoch_count, test_loss, 'b-')\n",
    "plt.legend([\"Training loss\", \"Test loss\"])\n",
    "plt.xlabel(\"Epoch\")\n",
    "plt.ylabel(\"Loss\")\n",
    "#plt.show()\n",
    "\n",
    "#training and test accuracy history\n",
    "training_acc = history.history[\"acc\"]\n",
    "test_acc = history.history[\"val_acc\"]\n",
    "\n",
    "plt.subplot(1,2,2)\n",
    "plt.plot(epoch_count, training_acc, 'r--')\n",
    "plt.plot(epoch_count, test_acc, 'b-')\n",
    "plt.legend([\"Training Accuracy\", \"Test Accuracy\"])\n",
    "plt.xlabel(\"Epoch\")\n",
    "plt.ylabel(\"Accuracy\")\n",
    "plt.show()\n"
   ]
  },
  {
   "cell_type": "markdown",
   "metadata": {},
   "source": [
    "Another strategy is Dropout"
   ]
  },
  {
   "cell_type": "code",
   "execution_count": 5,
   "metadata": {},
   "outputs": [
    {
     "name": "stdout",
     "output_type": "stream",
     "text": [
      "WARNING:tensorflow:From C:\\Users\\phess\\Anaconda3\\lib\\site-packages\\keras\\backend\\tensorflow_backend.py:3445: calling dropout (from tensorflow.python.ops.nn_ops) with keep_prob is deprecated and will be removed in a future version.\n",
      "Instructions for updating:\n",
      "Please use `rate` instead of `keep_prob`. Rate should be set to `rate = 1 - keep_prob`.\n"
     ]
    },
    {
     "data": {
      "image/png": "[encoded data removed]",
      "text/plain": [
       "<Figure size 432x288 with 2 Axes>"
      ]
     },
     "metadata": {
      "needs_background": "light"
     },
     "output_type": "display_data"
    }
   ],
   "source": [
    "# Dropout for Overfitting\n",
    "import numpy as np\n",
    "from keras.datasets import imdb\n",
    "from keras.preprocessing.text import Tokenizer\n",
    "from keras import models\n",
    "from keras import layers\n",
    "import matplotlib.pyplot as plt\n",
    "\n",
    "np.random.seed(0)\n",
    "\n",
    "number_of_feature = 10000\n",
    "\n",
    "(data_train, y_train), (data_test, y_test) = imdb.load_data(num_words=number_of_feature)\n",
    "\n",
    "# convert movie review data to one-hot encoded feature matrix\n",
    "tokenizer = Tokenizer(num_words=number_of_feature)\n",
    "X_train = tokenizer.sequences_to_matrix(data_train, mode=\"binary\")\n",
    "X_test = tokenizer.sequences_to_matrix(data_test, mode=\"binary\")\n",
    "\n",
    "#Start NN\n",
    "network = models.Sequential()\n",
    "\n",
    "# Add dropout for input layer\n",
    "network.add(layers.Dropout(0.2, input_shape=(number_of_feature, )))\n",
    "\n",
    "# Add Relu layer\n",
    "network.add(layers.Dense(units=16, activation='relu'))\n",
    "\n",
    "# Add dropout for input layer\n",
    "network.add(layers.Dropout(0.5))\n",
    "\n",
    "# Add Relu layer\n",
    "network.add(layers.Dense(units=16, activation='relu'))\n",
    "\n",
    "# Add dropout for input layer\n",
    "network.add(layers.Dropout(0.5))\n",
    "\n",
    "# Add Relu layer\n",
    "network.add(layers.Dense(units=1, activation='sigmoid'))\n",
    "\n",
    "# Compile NN\n",
    "network.compile(loss='binary_crossentropy', optimizer='rmsprop', metrics=[\"accuracy\"])\n",
    "\n",
    "\n",
    "#Train NN\n",
    "history = network.fit(X_train, y_train, epochs=20, verbose=0, batch_size=1000, \n",
    "                     validation_data=(X_test, y_test))\n",
    "# prediction\n",
    "predicted_y = network.predict(X_test)\n",
    "predicted_y[0]\n",
    "\n",
    "#training and test lost history\n",
    "training_loss = history.history[\"loss\"]\n",
    "test_loss = history.history[\"val_loss\"]\n",
    "\n",
    "# number of epochs\n",
    "epoch_count = range(1, len(training_loss)+1)\n",
    "\n",
    "fig = plt.figure()\n",
    "fig.subplots_adjust(hspace=0.4, wspace=0.4)\n",
    "\n",
    "plt.subplot(1,2,1)\n",
    "plt.plot(epoch_count, training_loss, 'r--')\n",
    "plt.plot(epoch_count, test_loss, 'b-')\n",
    "plt.legend([\"Training loss\", \"Test loss\"])\n",
    "plt.xlabel(\"Epoch\")\n",
    "plt.ylabel(\"Loss\")\n",
    "\n",
    "#training and test accuracy history\n",
    "training_acc = history.history[\"acc\"]\n",
    "test_acc = history.history[\"val_acc\"]\n",
    "\n",
    "plt.subplot(1,2,2)\n",
    "plt.plot(epoch_count, training_acc, 'r--')\n",
    "plt.plot(epoch_count, test_acc, 'b-')\n",
    "plt.legend([\"Training Accuracy\", \"Test Accuracy\"])\n",
    "plt.xlabel(\"Epoch\")\n",
    "plt.ylabel(\"Accuracy\")\n",
    "plt.show()\n"
   ]
  },
  {
   "cell_type": "markdown",
   "metadata": {},
   "source": [
    "Choosing the best hyperparameters is very important but difficult. It can be done using grid search."
   ]
  },
  {
   "cell_type": "code",
   "execution_count": 19,
   "metadata": {},
   "outputs": [
    {
     "data": {
      "text/plain": [
       "{'batch_size': 5, 'epochs': 5, 'optimizer': 'adam'}"
      ]
     },
     "execution_count": 19,
     "metadata": {},
     "output_type": "execute_result"
    }
   ],
   "source": [
    "# Tuning Hyperparameters in NN using GridSearchCV\n",
    "import numpy as np\n",
    "from keras import models, layers\n",
    "from keras.wrappers.scikit_learn import KerasClassifier\n",
    "from sklearn.model_selection import GridSearchCV\n",
    "from sklearn.datasets import make_classification\n",
    "\n",
    "np.random.seed(0)\n",
    "number_of_feature = 100\n",
    "\n",
    "X, y = make_classification(n_samples=10000, n_features=number_of_feature, n_informative=3, \n",
    "                          n_redundant=0, n_classes=2, weights=[.5, .5], random_state=0 )\n",
    "\n",
    "def create_network(optimizer = \"rmsprop\"):\n",
    "    #Start NN\n",
    "    network = models.Sequential()\n",
    "    # Add Relu layer\n",
    "    network.add(layers.Dense(units=16, activation='relu',\n",
    "                         input_shape=(number_of_feature, )))\n",
    "    # Add Relu layer\n",
    "    network.add(layers.Dense(units=16, activation='relu'))\n",
    "    # Add Relu layer\n",
    "    network.add(layers.Dense(units=1, activation='sigmoid'))\n",
    "    # Compile NN\n",
    "    network.compile(loss='binary_crossentropy', optimizer=optimizer, metrics=[\"accuracy\"])\n",
    "    return network\n",
    "#wrap keras model to be used by sklearn\n",
    "NN = KerasClassifier(build_fn=create_network, verbose=0)\n",
    "\n",
    "# Hyperparameter range\n",
    "epochs = [5, 10]\n",
    "batches = [5, 10, 100]\n",
    "optimizers = [\"rmsprop\", \"adam\"]\n",
    "\n",
    "hyperparameter = dict(optimizer=optimizers, epochs=epochs, batch_size=batches)\n",
    "\n",
    "grid = GridSearchCV(estimator=NN, param_grid=hyperparameter)\n",
    "\n",
    "grid_result = grid.fit(X, y)\n",
    "\n",
    "grid_result.best_params_\n"
   ]
  },
  {
   "cell_type": "markdown",
   "metadata": {},
   "source": [
    "Convolutional Neural Network (CNN) is a type of NN that is used for image classification. There are different layers in CNN. \n",
    "\n",
    "1. Convolution Layer: It does the convolution operation.\n",
    "\n",
    "2. Pooling Layer: Downsampling the feature\n",
    "\n",
    "4. Fully connected layer: Classifies the image.\n"
   ]
  },
  {
   "cell_type": "code",
   "execution_count": 35,
   "metadata": {},
   "outputs": [
    {
     "name": "stdout",
     "output_type": "stream",
     "text": [
      "range(1, 16)\n"
     ]
    },
    {
     "data": {
      "image/png": "[encoded data removed]",
      "text/plain": [
       "<Figure size 432x288 with 2 Axes>"
      ]
     },
     "metadata": {
      "needs_background": "light"
     },
     "output_type": "display_data"
    }
   ],
   "source": [
    "import numpy as np \n",
    "from keras.datasets import mnist\n",
    "from keras.models import Sequential\n",
    "from keras.layers import Dense, Dropout, Flatten\n",
    "from keras.layers.convolutional import Conv2D, MaxPooling2D\n",
    "from keras.utils import np_utils\n",
    "from keras import backend as K\n",
    "\n",
    "# Set the color channel value be first\n",
    "K.set_image_data_format(\"channels_first\")\n",
    "\n",
    "np.random.seed(0)\n",
    "\n",
    "# image info\n",
    "channel = 1\n",
    "height = 28\n",
    "width = 28\n",
    "\n",
    "\n",
    "(data_train, y_train), (data_test, y_test) = mnist.load_data()\n",
    "\n",
    "data_train = data_train.reshape(data_train.shape[0], channel, height, width)\n",
    "data_test = data_test.reshape(data_test.shape[0], channel, height, width)\n",
    "\n",
    "X_train = data_train /255\n",
    "X_test = data_test / 255\n",
    "\n",
    "# One-hot encoded the target\n",
    "y_train = np_utils.to_categorical(y_train)\n",
    "y_test = np_utils.to_categorical(y_test)\n",
    "number_of_class = y_test.shape[1]\n",
    "\n",
    "network = Sequential()\n",
    "network.add(Conv2D(filters=64, kernel_size=(5, 5), input_shape=(channel, width, height),\n",
    "                  activation='relu'))\n",
    "network.add(MaxPooling2D(pool_size=(2, 2)))\n",
    "network.add(Dropout(0.5))\n",
    "network.add(Flatten())\n",
    "\n",
    "network.add(Dense(number_of_class, activation='softmax'))\n",
    "\n",
    "network.compile(loss='categorical_crossentropy', optimizer='rmsprop', metrics=[\"accuracy\"])\n",
    "\n",
    "#Train NN\n",
    "history = network.fit(X_train, y_train, epochs=15, verbose=0, batch_size=1000, \n",
    "                     validation_data=(X_test, y_test))\n",
    "\n",
    "# prediction\n",
    "predicted_y = network.predict(X_test)\n",
    "predicted_y[0]\n",
    "\n",
    "#training and test lost history\n",
    "training_loss = history.history[\"loss\"]\n",
    "test_loss = history.history[\"val_loss\"]\n",
    "\n",
    "# number of epochs\n",
    "epoch_count = range(1, len(training_loss)+1)\n",
    "print(epoch_count)\n",
    "fig = plt.figure()\n",
    "fig.subplots_adjust(hspace=0.4, wspace=0.4)\n",
    "\n",
    "plt.subplot(1,2,1)\n",
    "plt.plot(epoch_count, training_loss, 'r--')\n",
    "plt.plot(epoch_count, test_loss, 'b-')\n",
    "plt.legend([\"Training loss\", \"Test loss\"])\n",
    "plt.xlabel(\"Epoch\")\n",
    "plt.ylabel(\"Loss\")\n",
    "#plt.show()\n",
    "\n",
    "#training and test accuracy history\n",
    "training_acc = history.history[\"acc\"]\n",
    "test_acc = history.history[\"val_acc\"]\n",
    "\n",
    "plt.subplot(1,2,2)\n",
    "plt.plot(epoch_count, training_acc, 'r--')\n",
    "plt.plot(epoch_count, test_acc, 'b-')\n",
    "plt.legend([\"Training Accuracy\", \"Test Accuracy\"])\n",
    "plt.xlabel(\"Epoch\")\n",
    "plt.ylabel(\"Accuracy\")\n",
    "plt.show()"
   ]
  },
  {
   "cell_type": "markdown",
   "metadata": {},
   "source": [
    "## Long Short-Term Memory "
   ]
  },
  {
   "cell_type": "code",
   "execution_count": 7,
   "metadata": {},
   "outputs": [
    {
     "data": {
      "image/png": "[encoded data removed]",
      "text/plain": [
       "<Figure size 432x288 with 1 Axes>"
      ]
     },
     "metadata": {
      "needs_background": "light"
     },
     "output_type": "display_data"
    },
    {
     "data": {
      "image/png": "[encoded data removed]",
      "text/plain": [
       "<Figure size 432x288 with 1 Axes>"
      ]
     },
     "metadata": {
      "needs_background": "light"
     },
     "output_type": "display_data"
    }
   ],
   "source": [
    "# LSTM RNN\n",
    "import numpy as np \n",
    "from keras.datasets import imdb\n",
    "from keras.preprocessing import sequence\n",
    "from keras import models, layers\n",
    "\n",
    "np.random.seed(0)\n",
    "\n",
    "number_of_features = 1000\n",
    "(data_train, y_train), (data_test, y_test) = imdb.load_data(num_words=number_of_features)\n",
    "\n",
    "# Use padding or truncation to make each observation have 400 features\n",
    "X_train = sequence.pad_sequences(data_train, maxlen=400)\n",
    "X_test = sequence.pad_sequences(data_test, maxlen=400)\n",
    "\n",
    "\n",
    "network = models.Sequential()\n",
    "network.add(layers.Embedding(input_dim=number_of_feature, output_dim=128))\n",
    "network.add(layers.LSTM(units=128))\n",
    "network.add(layers.Dense(units=1, activation='sigmoid'))\n",
    "\n",
    "network.compile(loss='binary_crossentropy', optimizer='Adam', metrics=[\"accuracy\"])\n",
    "\n",
    "#Train RNN\n",
    "history = network.fit(X_train, y_train, epochs=3, verbose=0, batch_size=1000, validation_data=(X_test, y_test))\n",
    "\n",
    "#training and test lost history\n",
    "training_loss = history.history[\"loss\"]\n",
    "test_loss = history.history[\"val_loss\"]\n",
    "\n",
    "# number of epochs\n",
    "epoch_count = range(1, len(training_loss)+1)\n",
    "\n",
    "fig = plt.figure()\n",
    "fig.subplots_adjust(hspace=0.4, wspace=0.4)\n",
    "\n",
    "plt.subplot(1,2,1)\n",
    "plt.plot(epoch_count, training_loss, 'r--')\n",
    "plt.plot(epoch_count, test_loss, 'b-')\n",
    "plt.legend([\"Training loss\", \"Test loss\"])\n",
    "plt.xlabel(\"Epoch\")\n",
    "plt.ylabel(\"Loss\")\n",
    "\n",
    "#training and test accuracy history\n",
    "training_acc = history.history[\"acc\"]\n",
    "test_acc = history.history[\"val_acc\"]\n",
    "\n",
    "#plt.subplot(1,2,2)\n",
    "plt.plot(epoch_count, training_acc, 'r--')\n",
    "plt.plot(epoch_count, test_acc, 'b-')\n",
    "plt.legend([\"Training Accuracy\", \"Test Accuracy\"])\n",
    "plt.xlabel(\"Epoch\")\n",
    "plt.ylabel(\"Accuracy\")\n",
    "plt.show()\n"
   ]
  }
 ],
 "metadata": {
  "kernelspec": {
   "display_name": "Python 3",
   "language": "python",
   "name": "python3"
  },
  "language_info": {
   "codemirror_mode": {
    "name": "ipython",
    "version": 3
   },
   "file_extension": ".py",
   "mimetype": "text/x-python",
   "name": "python",
   "nbconvert_exporter": "python",
   "pygments_lexer": "ipython3",
   "version": "3.7.3"
  }
 },
 "nbformat": 4,
 "nbformat_minor": 2
}
